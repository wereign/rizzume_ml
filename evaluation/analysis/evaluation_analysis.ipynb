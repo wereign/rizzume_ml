{
 "cells": [
  {
   "cell_type": "code",
   "execution_count": 1,
   "id": "7f478c08",
   "metadata": {},
   "outputs": [],
   "source": [
    "import pandas as pd\n",
    "import matplotlib.pyplot as plt\n",
    "import seaborn as sns\n",
    "import os\n",
    "\n",
    "def analyze_resume_predictions(csv_path, output_dir=\"analysis_outputs\"):\n",
    "    os.makedirs(output_dir, exist_ok=True)\n",
    "\n",
    "    df = pd.read_csv(csv_path)\n",
    "\n",
    "    # --- 1. Average duration_seconds ---\n",
    "    avg_duration_model = df.groupby(\"model\")[\"duration_seconds\"].mean().reset_index()\n",
    "    avg_duration_prompt = df.groupby(\"prompt_path\")[\"duration_seconds\"].mean().reset_index()\n",
    "    avg_duration_combined = df.groupby([\"model\", \"prompt_path\"])[\"duration_seconds\"].mean().reset_index()\n",
    "\n",
    "    # Save to CSV\n",
    "    avg_duration_model.to_csv(os.path.join(output_dir, \"avg_duration_by_model.csv\"), index=False)\n",
    "    avg_duration_prompt.to_csv(os.path.join(output_dir, \"avg_duration_by_prompt_path.csv\"), index=False)\n",
    "    avg_duration_combined.to_csv(os.path.join(output_dir, \"avg_duration_by_model_and_prompt.csv\"), index=False)\n",
    "\n",
    "    # Plotting helper\n",
    "    def plot_bar(data, x, y, title, filename, hue=None):\n",
    "        plt.figure(figsize=(10, 6))\n",
    "        sns.barplot(data=data, x=x, y=y, hue=hue)\n",
    "        plt.title(title)\n",
    "        plt.xticks(rotation=45, ha='right')\n",
    "        plt.tight_layout()\n",
    "        plt.savefig(os.path.join(output_dir, filename))\n",
    "        plt.close()\n",
    "\n",
    "    plot_bar(avg_duration_model, \"model\", \"duration_seconds\", \"Avg Duration by Model\", \"avg_duration_model.png\")\n",
    "    plot_bar(avg_duration_prompt, \"prompt_path\", \"duration_seconds\", \"Avg Duration by Prompt Path\", \"avg_duration_prompt_path.png\")\n",
    "    plot_bar(avg_duration_combined, \"model\", \"duration_seconds\", \"Avg Duration by Model & Prompt\", \"avg_duration_combined.png\", hue=\"prompt_path\")\n",
    "\n",
    "    # --- 2. Frequency counts for each categorical prediction column ---\n",
    "    pred_columns = [\n",
    "        \"pred_factual_accuracy\", \"pred_alignment\",\n",
    "        \"pred_section_length\", \"pred_grammar\", \"pred_justification\"\n",
    "    ]\n",
    "\n",
    "    for col in pred_columns:\n",
    "        # By model\n",
    "        model_counts = df.groupby([\"model\", col]).size().reset_index(name=\"count\")\n",
    "        plot_bar(model_counts, col, \"count\", f\"{col} by Model\", f\"{col}_by_model.png\", hue=\"model\")\n",
    "\n",
    "        # By prompt_path\n",
    "        prompt_counts = df.groupby([\"prompt_path\", col]).size().reset_index(name=\"count\")\n",
    "        plot_bar(prompt_counts, col, \"count\", f\"{col} by Prompt Path\", f\"{col}_by_prompt_path.png\", hue=\"prompt_path\")\n",
    "\n",
    "        # By model + prompt_path\n",
    "        combined_counts = df.groupby([\"model\", \"prompt_path\", col]).size().reset_index(name=\"count\")\n",
    "        for (model_val, prompt_val), group in combined_counts.groupby([\"model\", \"prompt_path\"]):\n",
    "            title = f\"{col} for Model: {model_val}, Prompt: {prompt_val}\"\n",
    "            fname = f\"{col}_model_{model_val}_prompt_{prompt_val}.png\".replace(\"/\", \"_\")\n",
    "            plot_bar(group, col, \"count\", title, fname)\n",
    "\n",
    "    print(f\"Analysis complete. Outputs saved to {output_dir}\")\n"
   ]
  },
  {
   "cell_type": "code",
   "execution_count": 3,
   "id": "30fb9da0",
   "metadata": {},
   "outputs": [
    {
     "name": "stderr",
     "output_type": "stream",
     "text": [
      "C:\\Users\\viren\\AppData\\Local\\Temp\\ipykernel_15780\\3189539175.py:27: UserWarning: Tight layout not applied. The left and right margins cannot be made large enough to accommodate all Axes decorations.\n",
      "  plt.tight_layout()\n",
      "C:\\Users\\viren\\AppData\\Local\\Temp\\ipykernel_15780\\3189539175.py:27: UserWarning: Tight layout not applied. The left and right margins cannot be made large enough to accommodate all Axes decorations.\n",
      "  plt.tight_layout()\n",
      "C:\\Users\\viren\\AppData\\Local\\Temp\\ipykernel_15780\\3189539175.py:27: UserWarning: Tight layout not applied. The left and right margins cannot be made large enough to accommodate all Axes decorations.\n",
      "  plt.tight_layout()\n"
     ]
    },
    {
     "name": "stdout",
     "output_type": "stream",
     "text": [
      "Analysis complete. Outputs saved to analysis_outputs\n"
     ]
    }
   ],
   "source": [
    "csv_path = r\"C:\\Users\\viren\\Desktop\\Rizzume\\Code\\rizzume_ml\\experiment_results\\prompt_model_variations\\prompt_model_variations_05_13_2025_09_20_00.csv\"\n",
    "analyze_resume_predictions(csv_path)"
   ]
  },
  {
   "cell_type": "code",
   "execution_count": null,
   "id": "ec82160d",
   "metadata": {},
   "outputs": [],
   "source": []
  }
 ],
 "metadata": {
  "kernelspec": {
   "display_name": "rizzume_env",
   "language": "python",
   "name": "python3"
  },
  "language_info": {
   "codemirror_mode": {
    "name": "ipython",
    "version": 3
   },
   "file_extension": ".py",
   "mimetype": "text/x-python",
   "name": "python",
   "nbconvert_exporter": "python",
   "pygments_lexer": "ipython3",
   "version": "3.10.16"
  }
 },
 "nbformat": 4,
 "nbformat_minor": 5
}
